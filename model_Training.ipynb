{
 "cells": [
  {
   "cell_type": "code",
   "execution_count": 1,
   "id": "88b20272",
   "metadata": {},
   "outputs": [],
   "source": [
    "# 1. SETUP: IMPORT LIBRARIES\n",
    "# ==============================================================================\n",
    "import pandas as pd\n",
    "import numpy as np\n",
    "import xgboost as xgb\n",
    "import joblib  # Library for saving and loading models\n",
    "import warnings\n",
    "\n",
    "# Suppress warnings for a cleaner output\n",
    "warnings.filterwarnings('ignore')\n",
    "\n",
    "from sklearn.model_selection import train_test_split\n",
    "from sklearn.preprocessing import StandardScaler\n",
    "from sklearn.metrics import r2_score, mean_absolute_error, mean_squared_error"
   ]
  },
  {
   "cell_type": "code",
   "execution_count": 2,
   "id": "8a10c905",
   "metadata": {},
   "outputs": [],
   "source": [
    "# 2. DATA LOADING\n",
    "# ==============================================================================\n",
    "# --- Load the dataset from a CSV file ---\n",
    "# IMPORTANT: Make sure your CSV file is in the same directory as this script,\n",
    "# or provide the full path to the file.\n",
    "file_path = 'concrete_data.csv'  # <-- CHANGE THIS TO YOUR FILENAME"
   ]
  },
  {
   "cell_type": "code",
   "execution_count": 3,
   "id": "ed8b0866",
   "metadata": {},
   "outputs": [
    {
     "name": "stdout",
     "output_type": "stream",
     "text": [
      "Successfully loaded data from 'concrete_data.csv'.\n"
     ]
    }
   ],
   "source": [
    "try:\n",
    "    df = pd.read_csv(file_path)\n",
    "    print(f\"Successfully loaded data from '{file_path}'.\")\n",
    "except FileNotFoundError:\n",
    "    print(f\"Error: The file '{file_path}' was not found.\")\n",
    "    print(\"Please make sure the CSV file is in the correct directory and the filename is correct.\")\n",
    "    exit() # Exit the script if the file doesn't exist"
   ]
  },
  {
   "cell_type": "code",
   "execution_count": 4,
   "id": "12f5e9e1",
   "metadata": {},
   "outputs": [
    {
     "name": "stdout",
     "output_type": "stream",
     "text": [
      "\n",
      "--- Data Cleaning and Preparation ---\n"
     ]
    }
   ],
   "source": [
    "# 3. DATA CLEANING\n",
    "# ==============================================================================\n",
    "print(\"\\n--- Data Cleaning and Preparation ---\")"
   ]
  },
  {
   "cell_type": "code",
   "execution_count": 5,
   "id": "bb082cf7",
   "metadata": {},
   "outputs": [
    {
     "name": "stdout",
     "output_type": "stream",
     "text": [
      "No missing values found.\n"
     ]
    }
   ],
   "source": [
    "# --- Check for Missing Values ---\n",
    "if df.isnull().sum().sum() > 0:\n",
    "    print(\"Missing values found. Consider a strategy to handle them (e.g., filling with mean).\")\n",
    "else:\n",
    "    print(\"No missing values found.\")"
   ]
  },
  {
   "cell_type": "code",
   "execution_count": 6,
   "id": "f482563d",
   "metadata": {},
   "outputs": [
    {
     "name": "stdout",
     "output_type": "stream",
     "text": [
      "Found and removed 25 duplicate rows.\n"
     ]
    }
   ],
   "source": [
    "# --- Check for and Remove Duplicates ---\n",
    "duplicates = df.duplicated().sum()\n",
    "if duplicates > 0:\n",
    "    print(f\"Found and removed {duplicates} duplicate rows.\")\n",
    "    df.drop_duplicates(inplace=True)\n",
    "else:\n",
    "    print(\"No duplicate rows found.\")"
   ]
  },
  {
   "cell_type": "code",
   "execution_count": 7,
   "id": "2bf2ca19",
   "metadata": {},
   "outputs": [],
   "source": [
    "# 4. PREPARE DATA FOR MODELING\n",
    "# ==============================================================================\n",
    "# --- Define Features (X) and Target (y) ---\n",
    "X = df.drop('Strength', axis=1)\n",
    "y = df['Strength']"
   ]
  },
  {
   "cell_type": "code",
   "execution_count": 10,
   "id": "e213ecc6",
   "metadata": {},
   "outputs": [],
   "source": [
    "X_train, X_test, y_train, y_test = train_test_split(X, y, test_size=0.2, random_state=42)"
   ]
  },
  {
   "cell_type": "code",
   "execution_count": 11,
   "id": "1db2cd52",
   "metadata": {},
   "outputs": [],
   "source": [
    "scaler = StandardScaler()\n",
    "X_train_scaled = scaler.fit_transform(X_train)\n",
    "X_test_scaled = scaler.transform(X_test)"
   ]
  },
  {
   "cell_type": "code",
   "execution_count": 12,
   "id": "cdd0b7ac",
   "metadata": {},
   "outputs": [
    {
     "name": "stdout",
     "output_type": "stream",
     "text": [
      "\n",
      "Data successfully split: 804 training samples and 201 testing samples.\n"
     ]
    }
   ],
   "source": [
    "print(f\"\\nData successfully split: {len(X_train)} training samples and {len(X_test)} testing samples.\")"
   ]
  },
  {
   "cell_type": "code",
   "execution_count": 13,
   "id": "6ccc2c2a",
   "metadata": {},
   "outputs": [
    {
     "name": "stdout",
     "output_type": "stream",
     "text": [
      "\n",
      "--- Training XGBoost Model ---\n",
      "Model training complete.\n"
     ]
    }
   ],
   "source": [
    "print(\"\\n--- Training XGBoost Model ---\")\n",
    "xgb_model = xgb.XGBRegressor(\n",
    "    objective='reg:squarederror',\n",
    "    n_estimators=150,          # Increased number of trees\n",
    "    learning_rate=0.1,         # Step size shrinkage\n",
    "    max_depth=5,               # Maximum depth of a tree\n",
    "    random_state=42,\n",
    "    n_jobs=-1                  # Use all available CPU cores\n",
    ")\n",
    "xgb_model.fit(X_train_scaled, y_train)\n",
    "print(\"Model training complete.\")"
   ]
  },
  {
   "cell_type": "code",
   "execution_count": 27,
   "id": "64374a72",
   "metadata": {},
   "outputs": [
    {
     "name": "stdout",
     "output_type": "stream",
     "text": [
      "\n",
      "--- XGBoost Model Performance Evaluation ---\n",
      "Model Accuracy (R-squared as %): 93.53%\n",
      "R-squared (R²): 0.9353\n",
      "Mean Absolute Error (MAE): 2.8730 MPa\n",
      "Root Mean Squared Error (RMSE): 4.3927 MPa\n"
     ]
    }
   ],
   "source": [
    "print(\"\\n--- XGBoost Model Performance Evaluation ---\")\n",
    "y_pred = xgb_model.predict(X_test_scaled)\n",
    "\n",
    "r2 = r2_score(y_test, y_pred)\n",
    "mae = mean_absolute_error(y_test, y_pred)\n",
    "rmse = np.sqrt(mean_squared_error(y_test, y_pred))\n",
    "\n",
    "accuracy_score = r2 * 100\n",
    "\n",
    "print(f\"Model Accuracy (R-squared as %): {accuracy_score:.2f}%\")\n",
    "print(f\"R-squared (R²): {r2:.4f}\")\n",
    "print(f\"Mean Absolute Error (MAE): {mae:.4f} MPa\")\n",
    "print(f\"Root Mean Squared Error (RMSE): {rmse:.4f} MPa\")"
   ]
  },
  {
   "cell_type": "code",
   "execution_count": 15,
   "id": "2834d792",
   "metadata": {},
   "outputs": [
    {
     "name": "stdout",
     "output_type": "stream",
     "text": [
      "\n",
      "--- Model and scaler have been saved to files ('xgboost_concrete_model.pkl', 'scaler.pkl') ---\n"
     ]
    }
   ],
   "source": [
    "joblib.dump(xgb_model, 'xgboost_concrete_model.pkl')\n",
    "joblib.dump(scaler, 'scaler.pkl')\n",
    "print(\"\\n--- Model and scaler have been saved to files ('xgboost_concrete_model.pkl', 'scaler.pkl') ---\")"
   ]
  },
  {
   "cell_type": "code",
   "execution_count": 26,
   "id": "cb9b55a8",
   "metadata": {},
   "outputs": [
    {
     "name": "stdout",
     "output_type": "stream",
     "text": [
      "\n",
      "--- Example of Loading Model for New Predictions ---\n",
      "Model and scaler loaded successfully.\n",
      "\n",
      "Prediction for the new concrete mix:\n",
      "  -> Predicted Strength: 53.51 MPa\n"
     ]
    }
   ],
   "source": [
    "print(\"\\n--- Example of Loading Model for New Predictions ---\")\n",
    "\n",
    "# Load the saved model and scaler\n",
    "loaded_model = joblib.load('xgboost_concrete_model.pkl')\n",
    "loaded_scaler = joblib.load('scaler.pkl')\n",
    "print(\"Model and scaler loaded successfully.\")\n",
    "\n",
    "# Create a hypothetical new concrete mixture to predict its strength\n",
    "# (Cement, Slag, Ash, Water, Superplasticizer, Coarse Agg, Fine Agg, Age)\n",
    "new_concrete_mix = np.array([[350, 150, 0, 180, 5.5, 950, 750, 90]])\n",
    "\n",
    "# IMPORTANT: You MUST scale the new data using the SAME scaler that was fit on the training data\n",
    "new_mix_scaled = loaded_scaler.transform(new_concrete_mix)\n",
    "\n",
    "# Make the prediction\n",
    "predicted_strength = loaded_model.predict(new_mix_scaled)\n",
    "\n",
    "print(f\"\\nPrediction for the new concrete mix:\")\n",
    "print(f\"  -> Predicted Strength: {predicted_strength[0]:.2f} MPa\")"
   ]
  },
  {
   "cell_type": "code",
   "execution_count": null,
   "id": "7c7425d6",
   "metadata": {},
   "outputs": [],
   "source": []
  },
  {
   "cell_type": "code",
   "execution_count": null,
   "id": "8a109eff",
   "metadata": {},
   "outputs": [],
   "source": []
  }
 ],
 "metadata": {
  "kernelspec": {
   "display_name": "Python 3",
   "language": "python",
   "name": "python3"
  },
  "language_info": {
   "codemirror_mode": {
    "name": "ipython",
    "version": 3
   },
   "file_extension": ".py",
   "mimetype": "text/x-python",
   "name": "python",
   "nbconvert_exporter": "python",
   "pygments_lexer": "ipython3",
   "version": "3.11.6"
  }
 },
 "nbformat": 4,
 "nbformat_minor": 5
}
